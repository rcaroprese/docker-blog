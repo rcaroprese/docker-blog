{
 "cells": [
  {
   "source": [
    "# Visualizer\n",
    "\n",
    "First, let's import the script and packages we need."
   ],
   "cell_type": "markdown",
   "metadata": {}
  },
  {
   "cell_type": "code",
   "execution_count": 2,
   "metadata": {},
   "outputs": [],
   "source": [
    "from visualizer import Visualizer\n",
    "from bokeh.io import output_notebook\n",
    "from bokeh.plotting import show"
   ]
  },
  {
   "source": [
    "Now, let's call our visualizer with a route we want to print.\n",
    "The route is just a list of tuples with the format (longitude, latitude)"
   ],
   "cell_type": "markdown",
   "metadata": {}
  },
  {
   "cell_type": "code",
   "execution_count": 3,
   "metadata": {},
   "outputs": [],
   "source": [
    "# The nodes are in the format (longitude, latitude)\n",
    "list_nodes = [(5.2966, 51.6901), (5.3384, 51.7138), (5.701922, 50.842685)]\n",
    "viz = Visualizer(list_nodes)\n",
    "p = viz.main()"
   ]
  },
  {
   "source": [
    "Finally, let's visualize the route we just queried."
   ],
   "cell_type": "markdown",
   "metadata": {}
  },
  {
   "cell_type": "code",
   "execution_count": null,
   "metadata": {},
   "outputs": [],
   "source": [
    "output_notebook()\n",
    "show(p)"
   ]
  }
 ],
 "metadata": {
  "kernelspec": {
   "display_name": "Python 3.7.7 64-bit ('postnl': venv)",
   "language": "python",
   "name": "python37764bitpostnlvenv4584e54f8d774204841316a6e94c8c1e"
  },
  "language_info": {
   "codemirror_mode": {
    "name": "ipython",
    "version": 3
   },
   "file_extension": ".py",
   "mimetype": "text/x-python",
   "name": "python",
   "nbconvert_exporter": "python",
   "pygments_lexer": "ipython3",
   "version": "3.7.7-final"
  }
 },
 "nbformat": 4,
 "nbformat_minor": 4
}